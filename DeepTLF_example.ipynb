{
 "cells": [
  {
   "cell_type": "markdown",
   "id": "quarterly-accessory",
   "metadata": {},
   "source": [
    "# DeepTLF (pre-release alpha vesrion)\n",
    "- DeepTLF follows the sckit-learn API\n",
    "- PyTorch Implementation"
   ]
  },
  {
   "cell_type": "code",
   "execution_count": 1,
   "id": "universal-flashing",
   "metadata": {
    "execution": {
     "iopub.execute_input": "2022-09-01T14:35:41.187169Z",
     "iopub.status.busy": "2022-09-01T14:35:41.187034Z",
     "iopub.status.idle": "2022-09-01T14:35:42.107248Z",
     "shell.execute_reply": "2022-09-01T14:35:42.106584Z",
     "shell.execute_reply.started": "2022-09-01T14:35:41.187138Z"
    }
   },
   "outputs": [],
   "source": [
    "import numpy as np\n",
    "\n",
    "from sklearn.model_selection import train_test_split\n",
    "from sklearn.metrics import accuracy_score\n",
    "from sklearn.datasets import load_breast_cancer\n",
    "\n",
    "import xgboost as xgb\n",
    "from src import DeepTFL\n",
    "\n",
    "import warnings\n",
    "warnings.filterwarnings('ignore')"
   ]
  },
  {
   "cell_type": "code",
   "execution_count": null,
   "id": "banner-moderator",
   "metadata": {},
   "outputs": [],
   "source": []
  },
  {
   "cell_type": "markdown",
   "id": "rational-kitchen",
   "metadata": {},
   "source": [
    "# Load and split data set \n"
   ]
  },
  {
   "cell_type": "code",
   "execution_count": 2,
   "id": "fantastic-boston",
   "metadata": {
    "execution": {
     "iopub.execute_input": "2022-09-01T14:35:42.108242Z",
     "iopub.status.busy": "2022-09-01T14:35:42.108102Z",
     "iopub.status.idle": "2022-09-01T14:35:42.117385Z",
     "shell.execute_reply": "2022-09-01T14:35:42.116973Z",
     "shell.execute_reply.started": "2022-09-01T14:35:42.108225Z"
    }
   },
   "outputs": [],
   "source": [
    "X, y = load_breast_cancer(return_X_y=True)\n",
    "# split data \n",
    "X_train, X_test, y_train, y_test = train_test_split(X, y, \n",
    "                                                    test_size=0.1,\n",
    "                                                    random_state=42)"
   ]
  },
  {
   "cell_type": "markdown",
   "id": "elder-large",
   "metadata": {},
   "source": [
    "# DeepTLF model"
   ]
  },
  {
   "cell_type": "code",
   "execution_count": 3,
   "id": "nasty-volume",
   "metadata": {
    "execution": {
     "iopub.execute_input": "2022-09-01T14:35:42.118026Z",
     "iopub.status.busy": "2022-09-01T14:35:42.117907Z",
     "iopub.status.idle": "2022-09-01T14:35:42.325343Z",
     "shell.execute_reply": "2022-09-01T14:35:42.324652Z",
     "shell.execute_reply.started": "2022-09-01T14:35:42.118014Z"
    }
   },
   "outputs": [
    {
     "data": {
      "text/plain": [
       "\u001b[0;31mInit signature:\u001b[0m\n",
       "\u001b[0mDeepTFL\u001b[0m\u001b[0;34m(\u001b[0m\u001b[0;34m\u001b[0m\n",
       "\u001b[0;34m\u001b[0m    \u001b[0mn_est\u001b[0m\u001b[0;34m=\u001b[0m\u001b[0;36m23\u001b[0m\u001b[0;34m,\u001b[0m\u001b[0;34m\u001b[0m\n",
       "\u001b[0;34m\u001b[0m    \u001b[0mmax_depth\u001b[0m\u001b[0;34m=\u001b[0m\u001b[0;36m4\u001b[0m\u001b[0;34m,\u001b[0m\u001b[0;34m\u001b[0m\n",
       "\u001b[0;34m\u001b[0m    \u001b[0mdrop\u001b[0m\u001b[0;34m=\u001b[0m\u001b[0;36m0.23\u001b[0m\u001b[0;34m,\u001b[0m\u001b[0;34m\u001b[0m\n",
       "\u001b[0;34m\u001b[0m    \u001b[0mxgb_lr\u001b[0m\u001b[0;34m=\u001b[0m\u001b[0;36m0.5\u001b[0m\u001b[0;34m,\u001b[0m\u001b[0;34m\u001b[0m\n",
       "\u001b[0;34m\u001b[0m    \u001b[0mbatchsize\u001b[0m\u001b[0;34m=\u001b[0m\u001b[0;36m320\u001b[0m\u001b[0;34m,\u001b[0m\u001b[0;34m\u001b[0m\n",
       "\u001b[0;34m\u001b[0m    \u001b[0mnn_lr\u001b[0m\u001b[0;34m=\u001b[0m\u001b[0;36m0.001\u001b[0m\u001b[0;34m,\u001b[0m\u001b[0;34m\u001b[0m\n",
       "\u001b[0;34m\u001b[0m    \u001b[0mnn\u001b[0m\u001b[0;34m=\u001b[0m\u001b[0;36m128\u001b[0m\u001b[0;34m,\u001b[0m\u001b[0;34m\u001b[0m\n",
       "\u001b[0;34m\u001b[0m    \u001b[0mn_layers\u001b[0m\u001b[0;34m=\u001b[0m\u001b[0;36m4\u001b[0m\u001b[0;34m,\u001b[0m\u001b[0;34m\u001b[0m\n",
       "\u001b[0;34m\u001b[0m    \u001b[0mtask\u001b[0m\u001b[0;34m=\u001b[0m\u001b[0;34m'class'\u001b[0m\u001b[0;34m,\u001b[0m\u001b[0;34m\u001b[0m\n",
       "\u001b[0;34m\u001b[0m    \u001b[0mdebug\u001b[0m\u001b[0;34m=\u001b[0m\u001b[0;32mFalse\u001b[0m\u001b[0;34m,\u001b[0m\u001b[0;34m\u001b[0m\n",
       "\u001b[0;34m\u001b[0m    \u001b[0mcheckpoint_name\u001b[0m\u001b[0;34m=\u001b[0m\u001b[0;34m'checkpoint.pt'\u001b[0m\u001b[0;34m,\u001b[0m\u001b[0;34m\u001b[0m\n",
       "\u001b[0;34m\u001b[0m\u001b[0;34m)\u001b[0m\u001b[0;34m\u001b[0m\u001b[0;34m\u001b[0m\u001b[0m\n",
       "\u001b[0;31mDocstring:\u001b[0m     \n",
       "Base class for all estimators in scikit-learn.\n",
       "\n",
       "Notes\n",
       "-----\n",
       "All estimators should specify all the parameters that can be set\n",
       "at the class level in their ``__init__`` as explicit keyword\n",
       "arguments (no ``*args`` or ``**kwargs``).\n",
       "\u001b[0;31mFile:\u001b[0m           ~/Documents/Projects/2021/DeepTLF/to_submit/src/deeptlf.py\n",
       "\u001b[0;31mType:\u001b[0m           type\n",
       "\u001b[0;31mSubclasses:\u001b[0m     \n"
      ]
     },
     "metadata": {},
     "output_type": "display_data"
    }
   ],
   "source": [
    "DeepTFL?"
   ]
  },
  {
   "cell_type": "code",
   "execution_count": 4,
   "id": "primary-helmet",
   "metadata": {
    "execution": {
     "iopub.execute_input": "2022-09-01T14:35:42.326282Z",
     "iopub.status.busy": "2022-09-01T14:35:42.326152Z",
     "iopub.status.idle": "2022-09-01T14:35:49.317465Z",
     "shell.execute_reply": "2022-09-01T14:35:49.316849Z",
     "shell.execute_reply.started": "2022-09-01T14:35:42.326267Z"
    }
   },
   "outputs": [
    {
     "name": "stdout",
     "output_type": "stream",
     "text": [
      "[16:35:42] WARNING: ../src/learner.cc:1061: Starting in XGBoost 1.3.0, the default evaluation metric used with the objective 'binary:logistic' was changed from 'error' to 'logloss'. Explicitly set eval_metric if you'd like to restore the old behavior.\n",
      "320\n",
      "Weight decoupling enabled in AdaBelief\n",
      "Early stopping\n",
      "LOSS: 0.0003107293965653158\n",
      "Num epochs: 168\n"
     ]
    }
   ],
   "source": [
    "dtlf_model = DeepTFL(n_est=23, max_depth=3, drop=0.23, n_layers=4, task='class')\n",
    "dtlf_model.fit(X_train,y_train)\n",
    "dtlf_y_hat = dtlf_model.predict(X_test)\n",
    "dtlf_y_hat = np.clip(dtlf_y_hat,0,1)\n",
    "acc_DeepTLF = accuracy_score(y_test, dtlf_y_hat)"
   ]
  },
  {
   "cell_type": "markdown",
   "id": "casual-coach",
   "metadata": {},
   "source": [
    "# GBDT model \n"
   ]
  },
  {
   "cell_type": "code",
   "execution_count": 5,
   "id": "voluntary-mandate",
   "metadata": {
    "execution": {
     "iopub.execute_input": "2022-09-01T14:35:49.318418Z",
     "iopub.status.busy": "2022-09-01T14:35:49.318288Z",
     "iopub.status.idle": "2022-09-01T14:35:53.714837Z",
     "shell.execute_reply": "2022-09-01T14:35:53.714291Z",
     "shell.execute_reply.started": "2022-09-01T14:35:49.318405Z"
    }
   },
   "outputs": [
    {
     "name": "stdout",
     "output_type": "stream",
     "text": [
      "[16:35:49] WARNING: ../src/learner.cc:1061: Starting in XGBoost 1.3.0, the default evaluation metric used with the objective 'binary:logistic' was changed from 'error' to 'logloss'. Explicitly set eval_metric if you'd like to restore the old behavior.\n"
     ]
    }
   ],
   "source": [
    "xgb_model = xgb.XGBClassifier()\n",
    "xgb_model.fit(X_train,y_train)\n",
    "xgb_y_hat = xgb_model.predict(X_test)\n",
    "xgb_y_hat = np.clip(xgb_y_hat,0,1)\n",
    "acc_xgb = accuracy_score(y_test, xgb_y_hat)"
   ]
  },
  {
   "cell_type": "code",
   "execution_count": 6,
   "id": "united-triple",
   "metadata": {
    "execution": {
     "iopub.execute_input": "2022-09-01T14:35:53.716089Z",
     "iopub.status.busy": "2022-09-01T14:35:53.715893Z",
     "iopub.status.idle": "2022-09-01T14:35:53.719132Z",
     "shell.execute_reply": "2022-09-01T14:35:53.718691Z",
     "shell.execute_reply.started": "2022-09-01T14:35:53.716066Z"
    }
   },
   "outputs": [
    {
     "name": "stdout",
     "output_type": "stream",
     "text": [
      "Results:\n",
      "GBDT accuracy: \t\t 96.49122807017544 %\n",
      "DeepTLF accuracy:\t 98.24561403508771 %\n"
     ]
    }
   ],
   "source": [
    "print('Results:')\n",
    "print('GBDT accuracy: \\t\\t', acc_xgb*100,'%')\n",
    "print('DeepTLF accuracy:\\t', acc_DeepTLF*100,'%')"
   ]
  }
 ],
 "metadata": {
  "kernelspec": {
   "display_name": "Python 3",
   "language": "python",
   "name": "python3"
  },
  "language_info": {
   "codemirror_mode": {
    "name": "ipython",
    "version": 3
   },
   "file_extension": ".py",
   "mimetype": "text/x-python",
   "name": "python",
   "nbconvert_exporter": "python",
   "pygments_lexer": "ipython3",
   "version": "3.7.6"
  }
 },
 "nbformat": 4,
 "nbformat_minor": 5
}
