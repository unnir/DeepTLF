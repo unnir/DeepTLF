{
 "cells": [
  {
   "cell_type": "markdown",
   "id": "quarterly-accessory",
   "metadata": {},
   "source": [
    "# DeepTLF (pre-release alpha vesrion)\n",
    "- DeepTLF follows the sckit-learn API\n",
    "- PyTorch Implementation"
   ]
  },
  {
   "cell_type": "code",
   "execution_count": 1,
   "id": "a2827b81-dad7-4273-ad92-9cc5767fea9c",
   "metadata": {},
   "outputs": [],
   "source": [
    "%load_ext autoreload\n",
    "%autoreload 2"
   ]
  },
  {
   "cell_type": "code",
   "execution_count": 2,
   "id": "universal-flashing",
   "metadata": {
    "tags": []
   },
   "outputs": [],
   "source": [
    "import numpy as np\n",
    "\n",
    "from sklearn.model_selection import train_test_split\n",
    "from sklearn.metrics import accuracy_score, mean_squared_error\n",
    "from sklearn.datasets import load_breast_cancer, fetch_california_housing\n",
    "\n",
    "import xgboost as xgb\n",
    "from src import DeepTFL\n",
    "\n",
    "import warnings\n",
    "warnings.filterwarnings('ignore')"
   ]
  },
  {
   "cell_type": "markdown",
   "id": "elder-large",
   "metadata": {},
   "source": [
    "# DeepTLF model"
   ]
  },
  {
   "cell_type": "code",
   "execution_count": 3,
   "id": "nasty-volume",
   "metadata": {
    "tags": []
   },
   "outputs": [
    {
     "data": {
      "text/plain": [
       "\u001b[0;31mInit signature:\u001b[0m\n",
       "\u001b[0mDeepTFL\u001b[0m\u001b[0;34m(\u001b[0m\u001b[0;34m\u001b[0m\n",
       "\u001b[0;34m\u001b[0m    \u001b[0mn_est\u001b[0m\u001b[0;34m=\u001b[0m\u001b[0;36m23\u001b[0m\u001b[0;34m,\u001b[0m\u001b[0;34m\u001b[0m\n",
       "\u001b[0;34m\u001b[0m    \u001b[0mmax_depth\u001b[0m\u001b[0;34m=\u001b[0m\u001b[0;36m4\u001b[0m\u001b[0;34m,\u001b[0m\u001b[0;34m\u001b[0m\n",
       "\u001b[0;34m\u001b[0m    \u001b[0mdrop\u001b[0m\u001b[0;34m=\u001b[0m\u001b[0;36m0.23\u001b[0m\u001b[0;34m,\u001b[0m\u001b[0;34m\u001b[0m\n",
       "\u001b[0;34m\u001b[0m    \u001b[0mxgb_lr\u001b[0m\u001b[0;34m=\u001b[0m\u001b[0;36m0.5\u001b[0m\u001b[0;34m,\u001b[0m\u001b[0;34m\u001b[0m\n",
       "\u001b[0;34m\u001b[0m    \u001b[0mbatch_size\u001b[0m\u001b[0;34m=\u001b[0m\u001b[0;36m320\u001b[0m\u001b[0;34m,\u001b[0m\u001b[0;34m\u001b[0m\n",
       "\u001b[0;34m\u001b[0m    \u001b[0mn_epoch\u001b[0m\u001b[0;34m=\u001b[0m\u001b[0;36m100\u001b[0m\u001b[0;34m,\u001b[0m\u001b[0;34m\u001b[0m\n",
       "\u001b[0;34m\u001b[0m    \u001b[0mhidden_dim\u001b[0m\u001b[0;34m=\u001b[0m\u001b[0;36m256\u001b[0m\u001b[0;34m,\u001b[0m\u001b[0;34m\u001b[0m\n",
       "\u001b[0;34m\u001b[0m    \u001b[0mn_layers\u001b[0m\u001b[0;34m=\u001b[0m\u001b[0;36m4\u001b[0m\u001b[0;34m,\u001b[0m\u001b[0;34m\u001b[0m\n",
       "\u001b[0;34m\u001b[0m    \u001b[0mtask\u001b[0m\u001b[0;34m=\u001b[0m\u001b[0;34m'class'\u001b[0m\u001b[0;34m,\u001b[0m\u001b[0;34m\u001b[0m\n",
       "\u001b[0;34m\u001b[0m    \u001b[0mdebug\u001b[0m\u001b[0;34m=\u001b[0m\u001b[0;32mFalse\u001b[0m\u001b[0;34m,\u001b[0m\u001b[0;34m\u001b[0m\n",
       "\u001b[0;34m\u001b[0m    \u001b[0mcheckpoint_name\u001b[0m\u001b[0;34m=\u001b[0m\u001b[0;34m'checkpoint.pt'\u001b[0m\u001b[0;34m,\u001b[0m\u001b[0;34m\u001b[0m\n",
       "\u001b[0;34m\u001b[0m\u001b[0;34m)\u001b[0m\u001b[0;34m\u001b[0m\u001b[0;34m\u001b[0m\u001b[0m\n",
       "\u001b[0;31mDocstring:\u001b[0m     \n",
       "A deep learning model based on XGBoost and a custom neural network.\n",
       "\n",
       "Parameters\n",
       "----------\n",
       "n_est : int, optional\n",
       "    Number of estimators for XGBoost model, default is 23.\n",
       "max_depth : int, optional\n",
       "    Max depth for each tree in XGBoost, default is 4.\n",
       "n_epoch : int, optional\n",
       "    Number of epochs for neural network training, default is 100.\n",
       "hidden_dim : int, optional\n",
       "    Hidden layer dimensions for neural network, default is 128.\n",
       "drop : float, optional\n",
       "    Dropout rate for neural network, default is 0.23.\n",
       "xgb_lr : float, optional\n",
       "    Learning rate for XGBoost model, default is 0.5.\n",
       "n_layers : int, optional\n",
       "    Number of layers in the neural network, default is 4.\n",
       "checkpoint_name : str, optional\n",
       "    File name to save the neural network model, default is 'checkpoint.pt'.\n",
       "batch_size : int, optional\n",
       "    Batch size for neural network training, default is 320.\n",
       "task : str, optional\n",
       "    Type of machine learning task ('class' for classification, other values for regression), default is 'class'.\n",
       "debug : bool, optional\n",
       "    Whether to print debugging information, default is False.\n",
       "    \n",
       "Attributes\n",
       "----------\n",
       "xgb_model : XGBClassifier or XGBRegressor\n",
       "    Fitted XGBoost model.\n",
       "nn_model : NeuralNet\n",
       "    Fitted neural network model.\n",
       "TDE_encoder : TreeDrivenEncoder\n",
       "    Fitted Tree-Driven Encoder.\n",
       "input_shape : int\n",
       "    Shape of the input feature space.\n",
       "device : torch.device\n",
       "    Device used for computations ('cuda' or 'cpu').\n",
       "\u001b[0;31mFile:\u001b[0m           /notebooks/deeptlf/DeepTLF/src/deeptlf.py\n",
       "\u001b[0;31mType:\u001b[0m           type\n",
       "\u001b[0;31mSubclasses:\u001b[0m     \n"
      ]
     },
     "metadata": {},
     "output_type": "display_data"
    }
   ],
   "source": [
    "DeepTFL?"
   ]
  },
  {
   "cell_type": "markdown",
   "id": "df5f1b7d-f7ba-41b0-bcd2-ca658f9ec19c",
   "metadata": {},
   "source": [
    "# Example: Classification - Breast Cancer Dataset "
   ]
  },
  {
   "cell_type": "code",
   "execution_count": 4,
   "id": "055532c4-626e-4236-b8e3-7951c077c84b",
   "metadata": {},
   "outputs": [],
   "source": [
    "X, y = load_breast_cancer(return_X_y=True)\n",
    "\n",
    "X_train, X_test, y_train, y_test = train_test_split(X, y, \n",
    "                                                    test_size=0.1,\n",
    "                                                    random_state=42)"
   ]
  },
  {
   "cell_type": "code",
   "execution_count": 5,
   "id": "primary-helmet",
   "metadata": {
    "tags": []
   },
   "outputs": [
    {
     "name": "stderr",
     "output_type": "stream",
     "text": [
      "Epochs:  36%|███▌      | 36/100 [00:02<00:03, 17.43it/s]"
     ]
    },
    {
     "name": "stdout",
     "output_type": "stream",
     "text": [
      "Early stopping\n"
     ]
    },
    {
     "name": "stderr",
     "output_type": "stream",
     "text": [
      "\n"
     ]
    }
   ],
   "source": [
    "dtlf_model = DeepTFL(n_est=30, max_depth=3, drop=0.5, n_layers=3, task='class')\n",
    "dtlf_model.fit(X_train=X_train, y_train=y_train)\n",
    "dtlf_y_hat = dtlf_model.predict(X_test)\n",
    "dtlf_y_hat = np.clip(dtlf_y_hat,0,1)\n",
    "acc_DeepTLF = accuracy_score(y_test, dtlf_y_hat)"
   ]
  },
  {
   "cell_type": "code",
   "execution_count": 6,
   "id": "voluntary-mandate",
   "metadata": {
    "tags": []
   },
   "outputs": [],
   "source": [
    "xgb_model = xgb.XGBClassifier()\n",
    "xgb_model.fit(X_train,y_train)\n",
    "xgb_y_hat = xgb_model.predict(X_test)\n",
    "xgb_y_hat = np.clip(xgb_y_hat,0,1)\n",
    "acc_xgb = accuracy_score(y_test, xgb_y_hat)"
   ]
  },
  {
   "cell_type": "code",
   "execution_count": 7,
   "id": "united-triple",
   "metadata": {
    "tags": []
   },
   "outputs": [
    {
     "name": "stdout",
     "output_type": "stream",
     "text": [
      "Results:\n",
      "GBDT accuracy: \t\t 96.49122807017544 %\n",
      "DeepTLF accuracy:\t 98.24561403508771 %\n"
     ]
    }
   ],
   "source": [
    "print('Results:')\n",
    "print('GBDT accuracy: \\t\\t', acc_xgb*100,'%')\n",
    "print('DeepTLF accuracy:\\t', acc_DeepTLF*100,'%')"
   ]
  },
  {
   "cell_type": "code",
   "execution_count": null,
   "id": "666ee242-ab76-4bef-a529-b45e8bc72a35",
   "metadata": {},
   "outputs": [],
   "source": []
  },
  {
   "cell_type": "markdown",
   "id": "5a805987-cd4c-4e65-b901-a4066e674105",
   "metadata": {},
   "source": [
    "# Example: Regression - California Housing Dataset "
   ]
  },
  {
   "cell_type": "code",
   "execution_count": 8,
   "id": "6ec3cf69-c595-464c-a84a-cf46d63d29b9",
   "metadata": {},
   "outputs": [],
   "source": [
    "X, y = fetch_california_housing(return_X_y=True)\n",
    "# split data \n",
    "X_train, X_test, y_train, y_test = train_test_split(X, y, \n",
    "                                                    test_size=0.1,\n",
    "                                                    random_state=42)"
   ]
  },
  {
   "cell_type": "code",
   "execution_count": 9,
   "id": "5812dcab-f987-4f4a-b0f8-d6ebe6f2dd93",
   "metadata": {
    "tags": []
   },
   "outputs": [
    {
     "name": "stderr",
     "output_type": "stream",
     "text": [
      "Epochs:   0%|          | 1/1000 [00:02<40:00,  2.40s/it]"
     ]
    },
    {
     "name": "stdout",
     "output_type": "stream",
     "text": [
      "Validation loss decreased (inf --> 1.429115).  Saving model ...\n"
     ]
    },
    {
     "name": "stderr",
     "output_type": "stream",
     "text": [
      "Epochs:   0%|          | 2/1000 [00:04<41:44,  2.51s/it]"
     ]
    },
    {
     "name": "stdout",
     "output_type": "stream",
     "text": [
      "Validation loss decreased (1.429115 --> 1.309111).  Saving model ...\n"
     ]
    },
    {
     "name": "stderr",
     "output_type": "stream",
     "text": [
      "Epochs:   0%|          | 3/1000 [00:07<41:16,  2.48s/it]"
     ]
    },
    {
     "name": "stdout",
     "output_type": "stream",
     "text": [
      "Validation loss decreased (1.309111 --> 1.288790).  Saving model ...\n"
     ]
    },
    {
     "name": "stderr",
     "output_type": "stream",
     "text": [
      "Epochs:   1%|          | 6/1000 [00:14<36:37,  2.21s/it]"
     ]
    },
    {
     "name": "stdout",
     "output_type": "stream",
     "text": [
      "Validation loss decreased (1.288790 --> 1.285344).  Saving model ...\n"
     ]
    },
    {
     "name": "stderr",
     "output_type": "stream",
     "text": [
      "Epochs:   1%|▏         | 13/1000 [00:30<38:30,  2.34s/it]"
     ]
    },
    {
     "name": "stdout",
     "output_type": "stream",
     "text": [
      "Validation loss decreased (1.285344 --> 1.284007).  Saving model ...\n"
     ]
    },
    {
     "name": "stderr",
     "output_type": "stream",
     "text": [
      "Epochs:   2%|▏         | 17/1000 [00:40<39:34,  2.42s/it]"
     ]
    },
    {
     "name": "stdout",
     "output_type": "stream",
     "text": [
      "Validation loss decreased (1.284007 --> 1.282636).  Saving model ...\n"
     ]
    },
    {
     "name": "stderr",
     "output_type": "stream",
     "text": [
      "Epochs:   4%|▎         | 36/1000 [01:29<40:02,  2.49s/it]"
     ]
    },
    {
     "name": "stdout",
     "output_type": "stream",
     "text": [
      "Early stopping\n"
     ]
    },
    {
     "name": "stderr",
     "output_type": "stream",
     "text": [
      "\n"
     ]
    }
   ],
   "source": [
    "# DeepTLF \n",
    "\n",
    "dtlf_model = DeepTFL(n_est=100, \n",
    "                     max_depth=5, \n",
    "                     debug=True,\n",
    "                     n_epoch = 1000,\n",
    "                     task='reg')\n",
    "dtlf_model.fit(X_train=X_train, y_train=y_train)\n",
    "dtlf_y_hat = dtlf_model.predict(X_test)\n",
    "mse_DeepTLF = mean_squared_error(y_test, dtlf_y_hat)"
   ]
  },
  {
   "cell_type": "code",
   "execution_count": 10,
   "id": "e4b8ca73-9dcb-42f6-9477-0cec46dc022f",
   "metadata": {},
   "outputs": [],
   "source": [
    "# XGBoost \n",
    "\n",
    "xgb_model = xgb.XGBRFRegressor()\n",
    "xgb_model.fit(X_train,y_train)\n",
    "xgb_y_hat = xgb_model.predict(X_test)\n",
    "mse_xgb = mean_squared_error(y_test, xgb_y_hat)"
   ]
  },
  {
   "cell_type": "code",
   "execution_count": 11,
   "id": "b041045a-08fd-4e3c-8c0b-2ebbc2557051",
   "metadata": {},
   "outputs": [
    {
     "name": "stdout",
     "output_type": "stream",
     "text": [
      "Results:\n",
      "GBDT MSE: \t 0.4234836546668566 %\n",
      "DeepTLF MSE:\t 1.3378848061009587 %\n"
     ]
    }
   ],
   "source": [
    "print('Results:')\n",
    "print('GBDT MSE: \\t', mse_xgb,'%')\n",
    "print('DeepTLF MSE:\\t', mse_DeepTLF,'%')"
   ]
  }
 ],
 "metadata": {
  "kernelspec": {
   "display_name": "Python 3 (ipykernel)",
   "language": "python",
   "name": "python3"
  },
  "language_info": {
   "codemirror_mode": {
    "name": "ipython",
    "version": 3
   },
   "file_extension": ".py",
   "mimetype": "text/x-python",
   "name": "python",
   "nbconvert_exporter": "python",
   "pygments_lexer": "ipython3",
   "version": "3.9.16"
  }
 },
 "nbformat": 4,
 "nbformat_minor": 5
}
